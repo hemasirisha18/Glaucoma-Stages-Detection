{
 "cells": [
  {
   "cell_type": "code",
   "execution_count": 31,
   "metadata": {
    "_cell_guid": "b1076dfc-b9ad-4769-8c92-a6c4dae69d19",
    "_uuid": "8f2839f25d086af736a60e9eeb907d3b93b6e0e5"
   },
   "outputs": [],
   "source": [
    "# This Python 3 environment comes with many helpful analytics libraries installed\n",
    "# It is defined by the kaggle/python Docker image: https://github.com/kaggle/docker-python\n",
    "# For example, here's several helpful packages to load\n",
    "\n",
    "#import numpy as np # linear algebra\n",
    "#import pandas as pd # data processing, CSV file I/O (e.g. pd.read_csv)\n",
    "\n",
    "# Input data files are available in the read-only \"../input/\" directory\n",
    "# For example, running this (by clicking run or pressing Shift+Enter) will list all files under the input directory\n",
    "\n",
    "#import os\n",
    "#for dirname, _, filenames in os.walk('/kaggle/input'):\n",
    "   # for filename in filenames:\n",
    "        print(os.path.join(dirname, filename))\n",
    "\n",
    "# You can write up to 20GB to the current directory (/kaggle/working/) that gets preserved as output when you create a version using \"Save & Run All\" \n",
    "# You can also write temporary files to /kaggle/temp/, but they won't be saved outside of the current session"
   ]
  },
  {
   "cell_type": "code",
   "execution_count": 1,
   "metadata": {},
   "outputs": [
    {
     "name": "stdout",
     "output_type": "stream",
     "text": [
      "WARNING:tensorflow:From c:\\users\\home\\onedrive\\kitsai\\suma\\lib\\site-packages\\keras\\src\\losses.py:2976: The name tf.losses.sparse_softmax_cross_entropy is deprecated. Please use tf.compat.v1.losses.sparse_softmax_cross_entropy instead.\n",
      "\n"
     ]
    }
   ],
   "source": [
    "import numpy as np\n",
    "import tensorflow as tf\n",
    "from tensorflow import keras\n",
    "from tensorflow.keras.preprocessing.image import ImageDataGenerator\n",
    "from tensorflow.keras.callbacks import ReduceLROnPlateau, ModelCheckpoint, EarlyStopping\n",
    "from tensorflow.keras.layers import GlobalAveragePooling2D, Dropout, Dense"
   ]
  },
  {
   "cell_type": "code",
   "execution_count": 2,
   "metadata": {},
   "outputs": [],
   "source": [
    "batch_size = 32\n",
    "IMG_SIZE = (224, 224)\n",
    "NUM_CLASSES = 4\n",
    "LR = 0.0001  # Reduced learning rate"
   ]
  },
  {
   "cell_type": "code",
   "execution_count": 3,
   "metadata": {},
   "outputs": [],
   "source": [
    "# Data augmentation\n",
    "train_datagen = ImageDataGenerator(\n",
    "    rescale=1./255,\n",
    "    rotation_range=10,  \n",
    "    width_shift_range=0.1,  \n",
    "    height_shift_range=0.1,  \n",
    "    shear_range=0.1,  \n",
    "    zoom_range=0.1,  \n",
    "    horizontal_flip=True,\n",
    ")"
   ]
  },
  {
   "cell_type": "code",
   "execution_count": 4,
   "metadata": {},
   "outputs": [
    {
     "name": "stdout",
     "output_type": "stream",
     "text": [
      "Found 2416 images belonging to 4 classes.\n"
     ]
    }
   ],
   "source": [
    "# Load train and validation data\n",
    "train_ds = train_datagen.flow_from_directory(\n",
    "    'dataset7/train',\n",
    "    target_size=IMG_SIZE,\n",
    "    batch_size=batch_size,\n",
    "    class_mode='categorical',\n",
    "    shuffle=True\n",
    ")"
   ]
  },
  {
   "cell_type": "code",
   "execution_count": 5,
   "metadata": {},
   "outputs": [
    {
     "name": "stdout",
     "output_type": "stream",
     "text": [
      "Found 344 images belonging to 4 classes.\n"
     ]
    }
   ],
   "source": [
    "valid_datagen = ImageDataGenerator(rescale=1./255)\n",
    "valid_ds = valid_datagen.flow_from_directory(\n",
    "    'dataset7/valid',\n",
    "    target_size=IMG_SIZE,\n",
    "    batch_size=batch_size,\n",
    "    class_mode='categorical',\n",
    "    shuffle=False\n",
    ")"
   ]
  },
  {
   "cell_type": "code",
   "execution_count": 6,
   "metadata": {},
   "outputs": [
    {
     "name": "stdout",
     "output_type": "stream",
     "text": [
      "WARNING:tensorflow:From c:\\users\\home\\onedrive\\kitsai\\suma\\lib\\site-packages\\keras\\src\\backend.py:1398: The name tf.executing_eagerly_outside_functions is deprecated. Please use tf.compat.v1.executing_eagerly_outside_functions instead.\n",
      "\n",
      "WARNING:tensorflow:From c:\\users\\home\\onedrive\\kitsai\\suma\\lib\\site-packages\\keras\\src\\layers\\normalization\\batch_normalization.py:979: The name tf.nn.fused_batch_norm is deprecated. Please use tf.compat.v1.nn.fused_batch_norm instead.\n",
      "\n"
     ]
    }
   ],
   "source": [
    "# Define model architecture with fine-tuning and regularization\n",
    "base_model = keras.applications.MobileNetV2(weights='imagenet', include_top=False, input_shape=(224, 224, 3))\n",
    "base_model.trainable = True  # Enable fine-tuning"
   ]
  },
  {
   "cell_type": "code",
   "execution_count": 7,
   "metadata": {},
   "outputs": [],
   "source": [
    "# Add some regularization\n",
    "for layer in base_model.layers:\n",
    "    if isinstance(layer, keras.layers.Conv2D):\n",
    "        layer.kernel_regularizer = keras.regularizers.l2(0.01)\n",
    "    elif isinstance(layer, keras.layers.BatchNormalization):\n",
    "        layer.trainable = False  # Fix batch normalization layers during fine-tuning\n",
    "\n",
    "model = keras.Sequential([\n",
    "    base_model,\n",
    "    GlobalAveragePooling2D(),\n",
    "    Dropout(0.5),  # Add dropout for regularization\n",
    "    Dense(NUM_CLASSES, activation='softmax')\n",
    "])"
   ]
  },
  {
   "cell_type": "code",
   "execution_count": 8,
   "metadata": {},
   "outputs": [],
   "source": [
    "# Compile the model\n",
    "model.compile(optimizer=keras.optimizers.Adam(learning_rate=LR),\n",
    "              loss='categorical_crossentropy',\n",
    "              metrics=['accuracy'])\n"
   ]
  },
  {
   "cell_type": "code",
   "execution_count": 9,
   "metadata": {},
   "outputs": [],
   "source": [
    "# Callbacks\n",
    "lr_scheduler = ReduceLROnPlateau(factor=0.5, patience=3)\n",
    "checkpoint_callback = ModelCheckpoint(\"best_model.keras\", monitor='val_accuracy', save_best_only=True, mode='max')\n",
    "early_stopping_callback = EarlyStopping(monitor='val_loss', patience=5, restore_best_weights=True)\n"
   ]
  },
  {
   "cell_type": "code",
   "execution_count": 10,
   "metadata": {},
   "outputs": [
    {
     "name": "stdout",
     "output_type": "stream",
     "text": [
      "Epoch 1/50\n",
      "WARNING:tensorflow:From c:\\users\\home\\onedrive\\kitsai\\suma\\lib\\site-packages\\keras\\src\\utils\\tf_utils.py:492: The name tf.ragged.RaggedTensorValue is deprecated. Please use tf.compat.v1.ragged.RaggedTensorValue instead.\n",
      "\n",
      "WARNING:tensorflow:From c:\\users\\home\\onedrive\\kitsai\\suma\\lib\\site-packages\\keras\\src\\engine\\base_layer_utils.py:384: The name tf.executing_eagerly_outside_functions is deprecated. Please use tf.compat.v1.executing_eagerly_outside_functions instead.\n",
      "\n",
      "76/76 [==============================] - 165s 2s/step - loss: 1.1011 - accuracy: 0.5265 - val_loss: 1.0761 - val_accuracy: 0.5581 - lr: 1.0000e-04\n",
      "Epoch 2/50\n",
      "76/76 [==============================] - 141s 2s/step - loss: 0.9556 - accuracy: 0.5844 - val_loss: 0.9290 - val_accuracy: 0.6047 - lr: 1.0000e-04\n",
      "Epoch 3/50\n",
      "76/76 [==============================] - 138s 2s/step - loss: 0.8501 - accuracy: 0.6370 - val_loss: 0.8418 - val_accuracy: 0.6076 - lr: 1.0000e-04\n",
      "Epoch 4/50\n",
      "76/76 [==============================] - 140s 2s/step - loss: 0.8302 - accuracy: 0.6407 - val_loss: 0.8940 - val_accuracy: 0.6453 - lr: 1.0000e-04\n",
      "Epoch 5/50\n",
      "76/76 [==============================] - 139s 2s/step - loss: 0.7594 - accuracy: 0.6676 - val_loss: 0.8387 - val_accuracy: 0.6250 - lr: 1.0000e-04\n",
      "Epoch 6/50\n",
      "76/76 [==============================] - 140s 2s/step - loss: 0.7338 - accuracy: 0.6809 - val_loss: 0.7635 - val_accuracy: 0.6366 - lr: 1.0000e-04\n",
      "Epoch 7/50\n",
      "76/76 [==============================] - 145s 2s/step - loss: 0.6955 - accuracy: 0.7007 - val_loss: 0.8338 - val_accuracy: 0.6483 - lr: 1.0000e-04\n",
      "Epoch 8/50\n",
      "76/76 [==============================] - 142s 2s/step - loss: 0.6450 - accuracy: 0.7214 - val_loss: 0.7382 - val_accuracy: 0.6599 - lr: 1.0000e-04\n",
      "Epoch 9/50\n",
      "76/76 [==============================] - 140s 2s/step - loss: 0.6142 - accuracy: 0.7363 - val_loss: 0.6718 - val_accuracy: 0.6744 - lr: 1.0000e-04\n",
      "Epoch 10/50\n",
      "76/76 [==============================] - 142s 2s/step - loss: 0.5487 - accuracy: 0.7670 - val_loss: 0.7012 - val_accuracy: 0.6977 - lr: 1.0000e-04\n",
      "Epoch 11/50\n",
      "76/76 [==============================] - 140s 2s/step - loss: 0.5495 - accuracy: 0.7653 - val_loss: 0.7215 - val_accuracy: 0.6831 - lr: 1.0000e-04\n",
      "Epoch 12/50\n",
      "76/76 [==============================] - 138s 2s/step - loss: 0.4912 - accuracy: 0.8063 - val_loss: 0.7616 - val_accuracy: 0.6890 - lr: 1.0000e-04\n",
      "Epoch 13/50\n",
      "76/76 [==============================] - 144s 2s/step - loss: 0.3469 - accuracy: 0.8572 - val_loss: 0.7591 - val_accuracy: 0.7267 - lr: 5.0000e-05\n",
      "Epoch 14/50\n",
      "76/76 [==============================] - 142s 2s/step - loss: 0.3161 - accuracy: 0.8791 - val_loss: 0.8068 - val_accuracy: 0.7006 - lr: 5.0000e-05\n"
     ]
    }
   ],
   "source": [
    "# Train the model\n",
    "history = model.fit(\n",
    "    train_ds,\n",
    "    epochs=50,\n",
    "    validation_data=valid_ds,\n",
    "    callbacks=[lr_scheduler, checkpoint_callback, early_stopping_callback]\n",
    ")"
   ]
  },
  {
   "cell_type": "code",
   "execution_count": 11,
   "metadata": {},
   "outputs": [
    {
     "name": "stdout",
     "output_type": "stream",
     "text": [
      "Found 172 images belonging to 4 classes.\n"
     ]
    }
   ],
   "source": [
    "# Evaluate the model on test data\n",
    "test_datagen = ImageDataGenerator(rescale=1./255)\n",
    "test_ds = test_datagen.flow_from_directory(\n",
    "    'dataset/test',\n",
    "    target_size=IMG_SIZE,\n",
    "    batch_size=batch_size,\n",
    "    class_mode='categorical',\n",
    "    shuffle=False\n",
    ")\n"
   ]
  },
  {
   "cell_type": "code",
   "execution_count": 12,
   "metadata": {},
   "outputs": [
    {
     "name": "stdout",
     "output_type": "stream",
     "text": [
      "6/6 [==============================] - 3s 380ms/step - loss: 0.7114 - accuracy: 0.7267\n",
      "Test accuracy: 0.7267\n"
     ]
    }
   ],
   "source": [
    "test_loss, test_accuracy = model.evaluate(test_ds)\n",
    "print(f\"Test accuracy: {test_accuracy:.4f}\")"
   ]
  },
  {
   "cell_type": "code",
   "execution_count": 17,
   "metadata": {},
   "outputs": [],
   "source": [
    "from tensorflow.keras.models import load_model"
   ]
  },
  {
   "cell_type": "code",
   "execution_count": 16,
   "metadata": {},
   "outputs": [
    {
     "data": {
      "text/plain": [
       "<keras.src.engine.sequential.Sequential at 0x1538b36a5b0>"
      ]
     },
     "execution_count": 16,
     "metadata": {},
     "output_type": "execute_result"
    }
   ],
   "source": [
    "model"
   ]
  },
  {
   "cell_type": "code",
   "execution_count": 18,
   "metadata": {},
   "outputs": [],
   "source": [
    "model.save('glaucoma6.keras')"
   ]
  },
  {
   "cell_type": "code",
   "execution_count": 19,
   "metadata": {},
   "outputs": [
    {
     "data": {
      "text/plain": [
       "<keras.src.engine.sequential.Sequential at 0x153987debb0>"
      ]
     },
     "execution_count": 19,
     "metadata": {},
     "output_type": "execute_result"
    }
   ],
   "source": [
    "d = load_model('glaucoma6.keras')\n",
    "d"
   ]
  },
  {
   "cell_type": "code",
   "execution_count": null,
   "metadata": {},
   "outputs": [],
   "source": []
  }
 ],
 "metadata": {
  "kaggle": {
   "accelerator": "nvidiaTeslaT4",
   "dataSources": [
    {
     "datasetId": 4535190,
     "sourceId": 7755876,
     "sourceType": "datasetVersion"
    }
   ],
   "dockerImageVersionId": 30665,
   "isGpuEnabled": true,
   "isInternetEnabled": true,
   "language": "python",
   "sourceType": "notebook"
  },
  "kernelspec": {
   "display_name": "Python 3 (ipykernel)",
   "language": "python",
   "name": "python3"
  },
  "language_info": {
   "codemirror_mode": {
    "name": "ipython",
    "version": 3
   },
   "file_extension": ".py",
   "mimetype": "text/x-python",
   "name": "python",
   "nbconvert_exporter": "python",
   "pygments_lexer": "ipython3",
   "version": "3.9.5"
  }
 },
 "nbformat": 4,
 "nbformat_minor": 4
}
